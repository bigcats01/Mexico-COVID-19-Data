{
 "cells": [
  {
   "cell_type": "markdown",
   "source": [
    "# Let's explore some data.\n",
    "\n",
    "## This data set contains COVID-19 patient information pertaining to pre-conditions and hospitlization. Originally from Mexico and in the Spanish language, a translated version of this data has been hosted on [Kaggle](https://www.kaggle.com/tanmoyx/covid19-patient-precondition-dataset).\n",
    "\n",
    "## For now I am ignoring the formatting of the graphs. Later on I will include a section below for generating print worthy graphs.\n",
    "\n",
    "## This dataset source maybe updated to include more patient information. We will"
   ],
   "metadata": {
    "collapsed": false
   }
  },
  {
   "cell_type": "code",
   "execution_count": 48,
   "metadata": {
    "collapsed": true
   },
   "outputs": [],
   "source": [
    "import pandas as pd\n",
    "import matplotlib.pyplot as plt\n",
    "from matplotlib import rc\n",
    "import numpy as np"
   ]
  },
  {
   "cell_type": "markdown",
   "source": [
    "### Let's load the data. We will drop the duplicates in the 'ID' column so that each patient has one record."
   ],
   "metadata": {
    "collapsed": false,
    "pycharm": {
     "name": "#%% md\n"
    }
   }
  },
  {
   "cell_type": "code",
   "execution_count": 49,
   "outputs": [
    {
     "name": "stdout",
     "output_type": "stream",
     "text": [
      "       id  sex  patient_type  entry_date date_symptoms   date_died  intubed  \\\n",
      "0  16169f    2             1  04-05-2020    02-05-2020  9999-99-99       97   \n",
      "1  1009bf    2             1  19-03-2020    17-03-2020  9999-99-99       97   \n",
      "2  167386    1             2  06-04-2020    01-04-2020  9999-99-99        2   \n",
      "3  0b5948    2             2  17-04-2020    10-04-2020  9999-99-99        2   \n",
      "4  0d01b5    1             2  13-04-2020    13-04-2020  22-04-2020        2   \n",
      "\n",
      "   pneumonia  age  pregnancy  ...  inmsupr  hypertension  other_disease  \\\n",
      "0          2   27         97  ...        2             2              2   \n",
      "1          2   24         97  ...        2             2              2   \n",
      "2          2   54          2  ...        2             2              2   \n",
      "3          1   30         97  ...        2             2              2   \n",
      "4          2   60          2  ...        2             1              2   \n",
      "\n",
      "   cardiovascular  obesity  renal_chronic  tobacco  contact_other_covid  \\\n",
      "0               2        2              2        2                    2   \n",
      "1               2        2              2        2                   99   \n",
      "2               2        1              2        2                   99   \n",
      "3               2        2              2        2                   99   \n",
      "4               1        2              2        2                   99   \n",
      "\n",
      "   covid_res  icu  \n",
      "0          1   97  \n",
      "1          1   97  \n",
      "2          1    2  \n",
      "3          1    2  \n",
      "4          1    2  \n",
      "\n",
      "[5 rows x 23 columns]\n"
     ]
    }
   ],
   "source": [
    "covid = pd.read_csv('covid.csv')\n",
    "covid = covid.drop_duplicates('id')\n",
    "covid.columns\n",
    "\n",
    "print(covid.head(5))"
   ],
   "metadata": {
    "collapsed": false,
    "pycharm": {
     "name": "#%%\n"
    }
   }
  },
  {
   "cell_type": "markdown",
   "source": [
    "### The data provides us with the date of deaths for patients. The value '9999-99-99' seems to represent those who survived."
   ],
   "metadata": {
    "collapsed": false,
    "pycharm": {
     "name": "#%% md\n"
    }
   }
  },
  {
   "cell_type": "code",
   "execution_count": 50,
   "outputs": [
    {
     "data": {
      "text/plain": "9999-99-99    527191\n16-06-2020       699\n08-06-2020       698\n10-06-2020       688\n12-06-2020       670\n               ...  \n15-01-2020         1\n20-03-2020         1\n12-03-2020         1\n25-02-2020         1\n13-01-2020         1\nName: date_died, Length: 124, dtype: int64"
     },
     "execution_count": 50,
     "metadata": {},
     "output_type": "execute_result"
    }
   ],
   "source": [
    "covid.date_died.value_counts()"
   ],
   "metadata": {
    "collapsed": false,
    "pycharm": {
     "name": "#%%\n"
    }
   }
  },
  {
   "cell_type": "markdown",
   "source": [
    "### In our dataset, for the pre-condition columns, 2 represents NO, and 1 represents YES. Let's replace 2/NO with 0. This will allow us to sum up the '1's' in order to see which pre-condtions were most prevelant.\n",
    "### 97 98 99 represent Does Not Apply, Ignored, Unspecified. I will treat these as NO\n",
    "### "
   ],
   "metadata": {
    "collapsed": false
   }
  },
  {
   "cell_type": "code",
   "execution_count": 51,
   "outputs": [],
   "source": [
    "cond_list = ['pregnancy', 'diabetes', 'copd',\n",
    "       'asthma', 'inmsupr', 'hypertension', 'other_disease', 'cardiovascular',\n",
    "       'obesity', 'renal_chronic', 'tobacco']\n",
    "for col in cond_list:\n",
    "    covid[col] = covid[col].replace(2,0)\n",
    "    covid[col] = covid[col].replace(97,0)\n",
    "    covid[col] = covid[col].replace(98,0)\n",
    "    covid[col] = covid[col].replace(99,0)"
   ],
   "metadata": {
    "collapsed": false,
    "pycharm": {
     "name": "#%%\n"
    }
   }
  },
  {
   "cell_type": "code",
   "execution_count": 52,
   "outputs": [
    {
     "name": "stdout",
     "output_type": "stream",
     "text": [
      "         id  sex  patient_type  entry_date date_symptoms   date_died  intubed  \\\n",
      "0    16169f    2             1  04-05-2020    02-05-2020  9999-99-99       97   \n",
      "1    1009bf    2             1  19-03-2020    17-03-2020  9999-99-99       97   \n",
      "2    167386    1             2  06-04-2020    01-04-2020  9999-99-99        2   \n",
      "3    0b5948    2             2  17-04-2020    10-04-2020  9999-99-99        2   \n",
      "4    0d01b5    1             2  13-04-2020    13-04-2020  22-04-2020        2   \n",
      "5    1beec8    2             2  16-04-2020    16-04-2020  29-04-2020        2   \n",
      "6  1.75E+56    2             2  22-04-2020    13-04-2020  9999-99-99        2   \n",
      "7    0ce1f5    1             1  21-05-2020    18-05-2020  9999-99-99       97   \n",
      "8    12b57a    1             1  22-04-2020    18-04-2020  9999-99-99       97   \n",
      "9    006b91    1             2  23-04-2020    18-04-2020  9999-99-99        1   \n",
      "\n",
      "   pneumonia  age  pregnancy  ...  inmsupr  hypertension  other_disease  \\\n",
      "0          2   27          0  ...        0             0              0   \n",
      "1          2   24          0  ...        0             0              0   \n",
      "2          2   54          0  ...        0             0              0   \n",
      "3          1   30          0  ...        0             0              0   \n",
      "4          2   60          0  ...        0             1              0   \n",
      "5          1   47          0  ...        0             0              0   \n",
      "6          2   63          0  ...        0             1              0   \n",
      "7          2   56          0  ...        0             1              0   \n",
      "8          2   41          0  ...        0             0              0   \n",
      "9          1   39          0  ...        0             0              0   \n",
      "\n",
      "   cardiovascular  obesity  renal_chronic  tobacco  contact_other_covid  \\\n",
      "0               0        0              0        0                    2   \n",
      "1               0        0              0        0                   99   \n",
      "2               0        1              0        0                   99   \n",
      "3               0        0              0        0                   99   \n",
      "4               1        0              0        0                   99   \n",
      "5               0        0              0        0                   99   \n",
      "6               0        0              0        0                   99   \n",
      "7               0        0              1        1                    1   \n",
      "8               0        0              0        0                   99   \n",
      "9               0        1              0        0                   99   \n",
      "\n",
      "   covid_res  icu  \n",
      "0          1   97  \n",
      "1          1   97  \n",
      "2          1    2  \n",
      "3          1    2  \n",
      "4          1    2  \n",
      "5          1    1  \n",
      "6          1    2  \n",
      "7          1   97  \n",
      "8          1   97  \n",
      "9          1    2  \n",
      "\n",
      "[10 rows x 23 columns]\n"
     ]
    },
    {
     "data": {
      "text/plain": "0    559151\n1      4050\nName: pregnancy, dtype: int64"
     },
     "execution_count": 52,
     "metadata": {},
     "output_type": "execute_result"
    }
   ],
   "source": [
    "print(covid.head(10))\n",
    "covid['pregnancy'].value_counts()"
   ],
   "metadata": {
    "collapsed": false,
    "pycharm": {
     "name": "#%%\n"
    }
   }
  },
  {
   "cell_type": "markdown",
   "source": [
    "### Let's look at the percentage of patients who died\n",
    "."
   ],
   "metadata": {
    "collapsed": false,
    "pycharm": {
     "name": "#%% md\n"
    }
   }
  },
  {
   "cell_type": "code",
   "execution_count": 53,
   "outputs": [
    {
     "data": {
      "text/plain": "6.393809670082263"
     },
     "execution_count": 53,
     "metadata": {},
     "output_type": "execute_result"
    }
   ],
   "source": [
    "deceased = covid[covid['date_died'] != '9999-99-99']\n",
    "len(deceased)/len(covid)*100"
   ],
   "metadata": {
    "collapsed": false,
    "pycharm": {
     "name": "#%%\n"
    }
   }
  },
  {
   "cell_type": "markdown",
   "source": [
    "### From a first glance it seems that the death rate in this dataset is about 6.4%\n",
    "\n",
    "Using the rc parameters for matplotlib will slow down your code. It will take sometime to execute the very first time you run it."
   ],
   "metadata": {
    "collapsed": false,
    "pycharm": {
     "name": "#%% md\n"
    }
   }
  },
  {
   "cell_type": "code",
   "execution_count": 54,
   "outputs": [
    {
     "data": {
      "text/plain": "<Figure size 432x288 with 1 Axes>",
      "image/png": "[encoded data removed]"
     },
     "metadata": {
      "needs_background": "light"
     },
     "output_type": "display_data"
    }
   ],
   "source": [
    "plt.bar([0,1],[len(deceased)/len(covid)*100, 100-(len(deceased)/len(covid)*100)],\n",
    "        color=['black', 'green'])\n",
    "rc('font', **{'family': 'serif', 'serif': ['Computer Modern']})\n",
    "rc('text', usetex=True)\n",
    "\n",
    "\n",
    "plt.xticks(np.arange(2), ['Died','Survived'])\n",
    "\n",
    "        #axs[0,0].set_title('Ethnicity',size = 'small', usetex = True)\n",
    "        #axs[0,0].tick_params(axis='y', which='major', labelsize=8)\n",
    "plt.show()"
   ],
   "metadata": {
    "collapsed": false,
    "pycharm": {
     "name": "#%%\n"
    }
   }
  },
  {
   "cell_type": "markdown",
   "source": [
    "### So far we have looked at the entire dataset. This includes people who have not been recognized as having a pre-condition."
   ],
   "metadata": {
    "collapsed": false,
    "pycharm": {
     "name": "#%% md\n"
    }
   }
  },
  {
   "cell_type": "code",
   "execution_count": 55,
   "outputs": [],
   "source": [
    "pc = covid[(covid['pregnancy'] == 1) | (covid['diabetes'] == 1) | (covid['copd'] == 1) | (covid['asthma'] == 1) |\\\n",
    "    (covid['inmsupr'] == 1) | (covid['hypertension'] == 1) | (covid['other_disease'] == 1) | (covid['cardiovascular'] == 1) |\\\n",
    "    (covid['obesity'] == 1) | (covid['renal_chronic'] == 1) | (covid['tobacco'] == 1)]\n",
    "\n",
    "pc_deceased = pc[pc['date_died'] != '9999-99-99']"
   ],
   "metadata": {
    "collapsed": false,
    "pycharm": {
     "name": "#%%\n"
    }
   }
  },
  {
   "cell_type": "code",
   "execution_count": 56,
   "outputs": [
    {
     "name": "stdout",
     "output_type": "stream",
     "text": [
      "36010\n",
      "26057\n",
      "240012\n"
     ]
    }
   ],
   "source": [
    "print(len(deceased))\n",
    "print(len(pc_deceased))\n",
    "print(len(pc))"
   ],
   "metadata": {
    "collapsed": false,
    "pycharm": {
     "name": "#%%\n"
    }
   }
  },
  {
   "cell_type": "markdown",
   "source": [
    "### Of those infected, a large portion had pre-existing conditions.\n",
    "\n",
    "This graph will have all the default formatting, the one above had a few changes. "
   ],
   "metadata": {
    "collapsed": false,
    "pycharm": {
     "name": "#%% md\n"
    }
   }
  },
  {
   "cell_type": "code",
   "execution_count": 57,
   "outputs": [
    {
     "data": {
      "text/plain": "<Figure size 432x288 with 1 Axes>",
      "image/png": "[encoded data removed]"
     },
     "metadata": {
      "needs_background": "light"
     },
     "output_type": "display_data"
    }
   ],
   "source": [
    "plt.bar(np.arange(1),len(pc))\n",
    "plt.bar(np.arange(1), len(covid)-len(pc), bottom = len(pc))\n",
    "plt.show()"
   ],
   "metadata": {
    "collapsed": false,
    "pycharm": {
     "name": "#%%\n"
    }
   }
  },
  {
   "cell_type": "markdown",
   "source": [
    "### Let's look at the number of patients who died as a result of COVID who had pre-conditions against those who died and did not have a pre-condition"
   ],
   "metadata": {
    "collapsed": false,
    "pycharm": {
     "name": "#%% md\n"
    }
   }
  },
  {
   "cell_type": "code",
   "execution_count": 58,
   "outputs": [
    {
     "data": {
      "text/plain": "<Figure size 432x288 with 1 Axes>",
      "image/png": "[encoded data removed]"
     },
     "metadata": {
      "needs_background": "light"
     },
     "output_type": "display_data"
    },
    {
     "data": {
      "text/plain": "0.7236045542904749"
     },
     "execution_count": 58,
     "metadata": {},
     "output_type": "execute_result"
    }
   ],
   "source": [
    "plt.bar([0,1],[len(pc_deceased), len(deceased)])\n",
    "plt.show()\n",
    "\n",
    "26057/36010"
   ],
   "metadata": {
    "collapsed": false,
    "pycharm": {
     "name": "#%%\n"
    }
   }
  },
  {
   "cell_type": "markdown",
   "source": [
    "### From a glance, we can see that the majority of deaths involved those with preconditions, about 72%.\n"
   ],
   "metadata": {
    "collapsed": false,
    "pycharm": {
     "name": "#%% md\n"
    }
   }
  },
  {
   "cell_type": "code",
   "execution_count": 58,
   "outputs": [],
   "source": [
    "\n"
   ],
   "metadata": {
    "collapsed": false,
    "pycharm": {
     "name": "#%%\n"
    }
   }
  },
  {
   "cell_type": "markdown",
   "source": [
    "\n",
    "\n",
    "\n",
    "\n"
   ],
   "metadata": {
    "collapsed": false,
    "pycharm": {
     "name": "#%% md\n"
    }
   }
  }
 ],
 "metadata": {
  "kernelspec": {
   "name": "pycharm-f5521ed3",
   "language": "python",
   "display_name": "PyCharm (bproj)"
  },
  "language_info": {
   "codemirror_mode": {
    "name": "ipython",
    "version": 2
   },
   "file_extension": ".py",
   "mimetype": "text/x-python",
   "name": "python",
   "nbconvert_exporter": "python",
   "pygments_lexer": "ipython2",
   "version": "2.7.6"
  }
 },
 "nbformat": 4,
 "nbformat_minor": 0
}