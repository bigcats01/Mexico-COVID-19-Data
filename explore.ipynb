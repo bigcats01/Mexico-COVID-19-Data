{
 "cells": [
  {
   "cell_type": "markdown",
   "source": [
    "# Let's explore some data.\n",
    "\n",
    "## This data set contains COVID-19 patient information pertaining to pre-conditions and hospitlization. Originally from Mexico and in the Spanish language, a translated version of this data has been hosted on [Kaggle](https://www.kaggle.com/tanmoyx/covid19-patient-precondition-dataset).\n",
    "\n",
    "## For now I am ignoring the formatting of the graphs. Later on I will include a section below for generating print worthy graphs.\n",
    "\n"
   ],
   "metadata": {
    "collapsed": false
   }
  },
  {
   "cell_type": "code",
   "execution_count": 38,
   "metadata": {
    "collapsed": true
   },
   "outputs": [],
   "source": [
    "import pandas as pd\n",
    "import matplotlib.pyplot as plt\n",
    "from matplotlib import rc\n",
    "import numpy as np"
   ]
  },
  {
   "cell_type": "markdown",
   "source": [
    "### Let's load the data. We will drop the duplicates in the 'ID' column so that each patient has one record."
   ],
   "metadata": {
    "collapsed": false,
    "pycharm": {
     "name": "#%% md\n"
    }
   }
  },
  {
   "cell_type": "code",
   "execution_count": 39,
   "outputs": [
    {
     "data": {
      "text/plain": "       id  sex  patient_type  entry_date date_symptoms   date_died  intubed  \\\n0  16169f    2             1  04-05-2020    02-05-2020  9999-99-99       97   \n1  1009bf    2             1  19-03-2020    17-03-2020  9999-99-99       97   \n2  167386    1             2  06-04-2020    01-04-2020  9999-99-99        2   \n3  0b5948    2             2  17-04-2020    10-04-2020  9999-99-99        2   \n4  0d01b5    1             2  13-04-2020    13-04-2020  22-04-2020        2   \n\n   pneumonia  age  pregnancy  ...  inmsupr  hypertension  other_disease  \\\n0          2   27         97  ...        2             2              2   \n1          2   24         97  ...        2             2              2   \n2          2   54          2  ...        2             2              2   \n3          1   30         97  ...        2             2              2   \n4          2   60          2  ...        2             1              2   \n\n   cardiovascular  obesity  renal_chronic  tobacco  contact_other_covid  \\\n0               2        2              2        2                    2   \n1               2        2              2        2                   99   \n2               2        1              2        2                   99   \n3               2        2              2        2                   99   \n4               1        2              2        2                   99   \n\n   covid_res  icu  \n0          1   97  \n1          1   97  \n2          1    2  \n3          1    2  \n4          1    2  \n\n[5 rows x 23 columns]",
      "text/html": "<div>\n<style scoped>\n    .dataframe tbody tr th:only-of-type {\n        vertical-align: middle;\n    }\n\n    .dataframe tbody tr th {\n        vertical-align: top;\n    }\n\n    .dataframe thead th {\n        text-align: right;\n    }\n</style>\n<table border=\"1\" class=\"dataframe\">\n  <thead>\n    <tr style=\"text-align: right;\">\n      <th></th>\n      <th>id</th>\n      <th>sex</th>\n      <th>patient_type</th>\n      <th>entry_date</th>\n      <th>date_symptoms</th>\n      <th>date_died</th>\n      <th>intubed</th>\n      <th>pneumonia</th>\n      <th>age</th>\n      <th>pregnancy</th>\n      <th>...</th>\n      <th>inmsupr</th>\n      <th>hypertension</th>\n      <th>other_disease</th>\n      <th>cardiovascular</th>\n      <th>obesity</th>\n      <th>renal_chronic</th>\n      <th>tobacco</th>\n      <th>contact_other_covid</th>\n      <th>covid_res</th>\n      <th>icu</th>\n    </tr>\n  </thead>\n  <tbody>\n    <tr>\n      <th>0</th>\n      <td>16169f</td>\n      <td>2</td>\n      <td>1</td>\n      <td>04-05-2020</td>\n      <td>02-05-2020</td>\n      <td>9999-99-99</td>\n      <td>97</td>\n      <td>2</td>\n      <td>27</td>\n      <td>97</td>\n      <td>...</td>\n      <td>2</td>\n      <td>2</td>\n      <td>2</td>\n      <td>2</td>\n      <td>2</td>\n      <td>2</td>\n      <td>2</td>\n      <td>2</td>\n      <td>1</td>\n      <td>97</td>\n    </tr>\n    <tr>\n      <th>1</th>\n      <td>1009bf</td>\n      <td>2</td>\n      <td>1</td>\n      <td>19-03-2020</td>\n      <td>17-03-2020</td>\n      <td>9999-99-99</td>\n      <td>97</td>\n      <td>2</td>\n      <td>24</td>\n      <td>97</td>\n      <td>...</td>\n      <td>2</td>\n      <td>2</td>\n      <td>2</td>\n      <td>2</td>\n      <td>2</td>\n      <td>2</td>\n      <td>2</td>\n      <td>99</td>\n      <td>1</td>\n      <td>97</td>\n    </tr>\n    <tr>\n      <th>2</th>\n      <td>167386</td>\n      <td>1</td>\n      <td>2</td>\n      <td>06-04-2020</td>\n      <td>01-04-2020</td>\n      <td>9999-99-99</td>\n      <td>2</td>\n      <td>2</td>\n      <td>54</td>\n      <td>2</td>\n      <td>...</td>\n      <td>2</td>\n      <td>2</td>\n      <td>2</td>\n      <td>2</td>\n      <td>1</td>\n      <td>2</td>\n      <td>2</td>\n      <td>99</td>\n      <td>1</td>\n      <td>2</td>\n    </tr>\n    <tr>\n      <th>3</th>\n      <td>0b5948</td>\n      <td>2</td>\n      <td>2</td>\n      <td>17-04-2020</td>\n      <td>10-04-2020</td>\n      <td>9999-99-99</td>\n      <td>2</td>\n      <td>1</td>\n      <td>30</td>\n      <td>97</td>\n      <td>...</td>\n      <td>2</td>\n      <td>2</td>\n      <td>2</td>\n      <td>2</td>\n      <td>2</td>\n      <td>2</td>\n      <td>2</td>\n      <td>99</td>\n      <td>1</td>\n      <td>2</td>\n    </tr>\n    <tr>\n      <th>4</th>\n      <td>0d01b5</td>\n      <td>1</td>\n      <td>2</td>\n      <td>13-04-2020</td>\n      <td>13-04-2020</td>\n      <td>22-04-2020</td>\n      <td>2</td>\n      <td>2</td>\n      <td>60</td>\n      <td>2</td>\n      <td>...</td>\n      <td>2</td>\n      <td>1</td>\n      <td>2</td>\n      <td>1</td>\n      <td>2</td>\n      <td>2</td>\n      <td>2</td>\n      <td>99</td>\n      <td>1</td>\n      <td>2</td>\n    </tr>\n  </tbody>\n</table>\n<p>5 rows × 23 columns</p>\n</div>"
     },
     "execution_count": 39,
     "metadata": {},
     "output_type": "execute_result"
    }
   ],
   "source": [
    "covid = pd.read_csv('covid.csv')\n",
    "covid = covid.drop_duplicates('id')\n",
    "covid.head(5)"
   ],
   "metadata": {
    "collapsed": false,
    "pycharm": {
     "name": "#%%\n"
    }
   }
  },
  {
   "cell_type": "markdown",
   "source": [
    "### The data provides us with the date of deaths for patients. The value '9999-99-99' seems to represent those who survived."
   ],
   "metadata": {
    "collapsed": false,
    "pycharm": {
     "name": "#%% md\n"
    }
   }
  },
  {
   "cell_type": "code",
   "execution_count": 40,
   "outputs": [
    {
     "data": {
      "text/plain": "9999-99-99    527191\n16-06-2020       699\n08-06-2020       698\n10-06-2020       688\n12-06-2020       670\n               ...  \n11-02-2020         1\n29-01-2020         1\n13-01-2020         1\n08-02-2020         1\n12-03-2020         1\nName: date_died, Length: 124, dtype: int64"
     },
     "execution_count": 40,
     "metadata": {},
     "output_type": "execute_result"
    }
   ],
   "source": [
    "covid.date_died.value_counts()"
   ],
   "metadata": {
    "collapsed": false,
    "pycharm": {
     "name": "#%%\n"
    }
   }
  },
  {
   "cell_type": "markdown",
   "source": [
    "### In our dataset, for the pre-condition columns, 2 represents NO, and 1 represents YES. Let's replace 2/NO with 0. This will allow us to sum up the '1's' in order to see which pre-condtions were most prevelant.\n",
    "### 97 98 99 represent Does Not Apply, Ignored, Unspecified. I will treat these as NO\n",
    "###"
   ],
   "metadata": {
    "collapsed": false
   }
  },
  {
   "cell_type": "code",
   "execution_count": 41,
   "outputs": [],
   "source": [
    "cond_list = ['pregnancy', 'diabetes', 'copd',\n",
    "       'asthma', 'inmsupr', 'hypertension', 'other_disease', 'cardiovascular',\n",
    "       'obesity', 'renal_chronic', 'tobacco']\n",
    "for col in cond_list:\n",
    "    covid[col] = covid[col].replace(2,0)\n",
    "    covid[col] = covid[col].replace(97,0)\n",
    "    covid[col] = covid[col].replace(98,0)\n",
    "    covid[col] = covid[col].replace(99,0)"
   ],
   "metadata": {
    "collapsed": false,
    "pycharm": {
     "name": "#%%\n"
    }
   }
  },
  {
   "cell_type": "code",
   "execution_count": 42,
   "outputs": [
    {
     "data": {
      "text/plain": "       id  sex  patient_type  entry_date date_symptoms   date_died  intubed  \\\n0  16169f    2             1  04-05-2020    02-05-2020  9999-99-99       97   \n1  1009bf    2             1  19-03-2020    17-03-2020  9999-99-99       97   \n2  167386    1             2  06-04-2020    01-04-2020  9999-99-99        2   \n3  0b5948    2             2  17-04-2020    10-04-2020  9999-99-99        2   \n4  0d01b5    1             2  13-04-2020    13-04-2020  22-04-2020        2   \n\n   pneumonia  age  pregnancy  ...  inmsupr  hypertension  other_disease  \\\n0          2   27          0  ...        0             0              0   \n1          2   24          0  ...        0             0              0   \n2          2   54          0  ...        0             0              0   \n3          1   30          0  ...        0             0              0   \n4          2   60          0  ...        0             1              0   \n\n   cardiovascular  obesity  renal_chronic  tobacco  contact_other_covid  \\\n0               0        0              0        0                    2   \n1               0        0              0        0                   99   \n2               0        1              0        0                   99   \n3               0        0              0        0                   99   \n4               1        0              0        0                   99   \n\n   covid_res  icu  \n0          1   97  \n1          1   97  \n2          1    2  \n3          1    2  \n4          1    2  \n\n[5 rows x 23 columns]",
      "text/html": "<div>\n<style scoped>\n    .dataframe tbody tr th:only-of-type {\n        vertical-align: middle;\n    }\n\n    .dataframe tbody tr th {\n        vertical-align: top;\n    }\n\n    .dataframe thead th {\n        text-align: right;\n    }\n</style>\n<table border=\"1\" class=\"dataframe\">\n  <thead>\n    <tr style=\"text-align: right;\">\n      <th></th>\n      <th>id</th>\n      <th>sex</th>\n      <th>patient_type</th>\n      <th>entry_date</th>\n      <th>date_symptoms</th>\n      <th>date_died</th>\n      <th>intubed</th>\n      <th>pneumonia</th>\n      <th>age</th>\n      <th>pregnancy</th>\n      <th>...</th>\n      <th>inmsupr</th>\n      <th>hypertension</th>\n      <th>other_disease</th>\n      <th>cardiovascular</th>\n      <th>obesity</th>\n      <th>renal_chronic</th>\n      <th>tobacco</th>\n      <th>contact_other_covid</th>\n      <th>covid_res</th>\n      <th>icu</th>\n    </tr>\n  </thead>\n  <tbody>\n    <tr>\n      <th>0</th>\n      <td>16169f</td>\n      <td>2</td>\n      <td>1</td>\n      <td>04-05-2020</td>\n      <td>02-05-2020</td>\n      <td>9999-99-99</td>\n      <td>97</td>\n      <td>2</td>\n      <td>27</td>\n      <td>0</td>\n      <td>...</td>\n      <td>0</td>\n      <td>0</td>\n      <td>0</td>\n      <td>0</td>\n      <td>0</td>\n      <td>0</td>\n      <td>0</td>\n      <td>2</td>\n      <td>1</td>\n      <td>97</td>\n    </tr>\n    <tr>\n      <th>1</th>\n      <td>1009bf</td>\n      <td>2</td>\n      <td>1</td>\n      <td>19-03-2020</td>\n      <td>17-03-2020</td>\n      <td>9999-99-99</td>\n      <td>97</td>\n      <td>2</td>\n      <td>24</td>\n      <td>0</td>\n      <td>...</td>\n      <td>0</td>\n      <td>0</td>\n      <td>0</td>\n      <td>0</td>\n      <td>0</td>\n      <td>0</td>\n      <td>0</td>\n      <td>99</td>\n      <td>1</td>\n      <td>97</td>\n    </tr>\n    <tr>\n      <th>2</th>\n      <td>167386</td>\n      <td>1</td>\n      <td>2</td>\n      <td>06-04-2020</td>\n      <td>01-04-2020</td>\n      <td>9999-99-99</td>\n      <td>2</td>\n      <td>2</td>\n      <td>54</td>\n      <td>0</td>\n      <td>...</td>\n      <td>0</td>\n      <td>0</td>\n      <td>0</td>\n      <td>0</td>\n      <td>1</td>\n      <td>0</td>\n      <td>0</td>\n      <td>99</td>\n      <td>1</td>\n      <td>2</td>\n    </tr>\n    <tr>\n      <th>3</th>\n      <td>0b5948</td>\n      <td>2</td>\n      <td>2</td>\n      <td>17-04-2020</td>\n      <td>10-04-2020</td>\n      <td>9999-99-99</td>\n      <td>2</td>\n      <td>1</td>\n      <td>30</td>\n      <td>0</td>\n      <td>...</td>\n      <td>0</td>\n      <td>0</td>\n      <td>0</td>\n      <td>0</td>\n      <td>0</td>\n      <td>0</td>\n      <td>0</td>\n      <td>99</td>\n      <td>1</td>\n      <td>2</td>\n    </tr>\n    <tr>\n      <th>4</th>\n      <td>0d01b5</td>\n      <td>1</td>\n      <td>2</td>\n      <td>13-04-2020</td>\n      <td>13-04-2020</td>\n      <td>22-04-2020</td>\n      <td>2</td>\n      <td>2</td>\n      <td>60</td>\n      <td>0</td>\n      <td>...</td>\n      <td>0</td>\n      <td>1</td>\n      <td>0</td>\n      <td>1</td>\n      <td>0</td>\n      <td>0</td>\n      <td>0</td>\n      <td>99</td>\n      <td>1</td>\n      <td>2</td>\n    </tr>\n  </tbody>\n</table>\n<p>5 rows × 23 columns</p>\n</div>"
     },
     "execution_count": 42,
     "metadata": {},
     "output_type": "execute_result"
    }
   ],
   "source": [
    "covid.head(5)"
   ],
   "metadata": {
    "collapsed": false,
    "pycharm": {
     "name": "#%%\n"
    }
   }
  },
  {
   "cell_type": "code",
   "execution_count": 43,
   "outputs": [
    {
     "data": {
      "text/plain": "0    559151\n1      4050\nName: pregnancy, dtype: int64"
     },
     "execution_count": 43,
     "metadata": {},
     "output_type": "execute_result"
    }
   ],
   "source": [
    "covid['pregnancy'].value_counts()"
   ],
   "metadata": {
    "collapsed": false,
    "pycharm": {
     "name": "#%%\n"
    }
   }
  },
  {
   "cell_type": "markdown",
   "source": [
    "### Let's look at the percentage of patients who died"
   ],
   "metadata": {
    "collapsed": false,
    "pycharm": {
     "name": "#%% md\n"
    }
   }
  },
  {
   "cell_type": "code",
   "execution_count": 44,
   "outputs": [
    {
     "data": {
      "text/plain": "6.393809670082263"
     },
     "execution_count": 44,
     "metadata": {},
     "output_type": "execute_result"
    }
   ],
   "source": [
    "deceased = covid[covid['date_died'] != '9999-99-99']\n",
    "len(deceased)/len(covid)*100"
   ],
   "metadata": {
    "collapsed": false,
    "pycharm": {
     "name": "#%%\n"
    }
   }
  },
  {
   "cell_type": "markdown",
   "source": [
    "### From a first glance it seems that the death rate in this dataset is about 6.4%\n",
    "Using the rc parameters \"usetex\" option for matplotlib will slow down your code. It will take sometime additional time to execute the very first time you run it."
   ],
   "metadata": {
    "collapsed": false,
    "pycharm": {
     "name": "#%% md\n"
    }
   }
  },
  {
   "cell_type": "code",
   "execution_count": 45,
   "outputs": [
    {
     "data": {
      "text/plain": "<Figure size 432x288 with 1 Axes>",
      "image/png": "[encoded data removed]"
     },
     "metadata": {
      "needs_background": "light"
     },
     "output_type": "display_data"
    }
   ],
   "source": [
    "fig, axs0 = plt.subplots()\n",
    "plt.bar([0,1],[len(deceased)/len(covid)*100, 100-(len(deceased)/len(covid)*100)],\n",
    "        color=['blue', 'green'])\n",
    "#rc('font', **{'family': 'serif', 'serif': ['Computer Modern']})\n",
    "rc('text', usetex=True)\n",
    "\n",
    "plt.xticks(np.arange(2), ['Died','Survived'])\n",
    "plt.yticks(np.arange(0,120,20))\n",
    "for p in axs0.patches:\n",
    "        a =p.get_height()\n",
    "        axs0.annotate('{:0.0f}'.format(float(a))+'\\%', (p.get_x()+.3, p.get_height() +.3), weight = 'bold')\n",
    "\n",
    "        #axs[0,0].set_title('Ethnicity',size = 'small', usetex = True)\n",
    "        #axs[0,0].tick_params(axis='y', which='major', labelsize=8)\n",
    "plt.show()"
   ],
   "metadata": {
    "collapsed": false,
    "pycharm": {
     "name": "#%%\n"
    }
   }
  },
  {
   "cell_type": "markdown",
   "source": [
    "### So far we have looked at the entire dataset. This includes people who have not been recognized as having a pre-condition."
   ],
   "metadata": {
    "collapsed": false,
    "pycharm": {
     "name": "#%% md\n"
    }
   }
  },
  {
   "cell_type": "code",
   "execution_count": 46,
   "outputs": [],
   "source": [
    "pc = covid[(covid['pregnancy'] == 1) | (covid['diabetes'] == 1) | (covid['copd'] == 1) | (covid['asthma'] == 1) |\\\n",
    "    (covid['inmsupr'] == 1) | (covid['hypertension'] == 1) | (covid['other_disease'] == 1) | (covid['cardiovascular'] == 1) |\\\n",
    "    (covid['obesity'] == 1) | (covid['renal_chronic'] == 1) | (covid['tobacco'] == 1)]\n",
    "\n",
    "pc_deceased = pc[pc['date_died'] != '9999-99-99']"
   ],
   "metadata": {
    "collapsed": false,
    "pycharm": {
     "name": "#%%\n"
    }
   }
  },
  {
   "cell_type": "code",
   "execution_count": 47,
   "outputs": [
    {
     "name": "stdout",
     "output_type": "stream",
     "text": [
      "36010\n",
      "26057\n",
      "240012\n"
     ]
    }
   ],
   "source": [
    "print(len(deceased))\n",
    "print(len(pc_deceased))\n",
    "print(len(pc))"
   ],
   "metadata": {
    "collapsed": false,
    "pycharm": {
     "name": "#%%\n"
    }
   }
  },
  {
   "cell_type": "markdown",
   "source": [
    "### Of those infected, a large portion had pre-existing conditions.\n",
    "\n",
    "This graph will have all the default formatting, the one above had a few changes."
   ],
   "metadata": {
    "collapsed": false,
    "pycharm": {
     "name": "#%% md\n"
    }
   }
  },
  {
   "cell_type": "code",
   "execution_count": 57,
   "outputs": [
    {
     "data": {
      "text/plain": "<Figure size 432x288 with 1 Axes>",
      "image/png": "[encoded data removed]"
     },
     "metadata": {
      "needs_background": "light"
     },
     "output_type": "display_data"
    }
   ],
   "source": [
    "fig, axs1 = plt.subplots()\n",
    "plt.bar(np.arange(1),len(pc), width= .5)\n",
    "plt.bar(np.arange(1), len(covid)-len(pc), bottom = len(pc), width = .5)\n",
    "plt.xticks(np.arange(1), ['Total Infections'])\n",
    "\n",
    "plt.legend(['Pre-condition','No Pre-condition'])\n",
    "for p in axs1.patches:\n",
    "        a =p.get_height()\n",
    "        axs1.annotate('{:0.0f}'.format(float(a)), (p.get_x()+.2, p.get_height() * .85), weight = 'bold')\n",
    "plt.show()"
   ],
   "metadata": {
    "collapsed": false,
    "pycharm": {
     "name": "#%%\n"
    }
   }
  },
  {
   "cell_type": "markdown",
   "source": [
    "### Let's look at the number of patients who died as a result of COVID who had pre-conditions against those who died and did not have a pre-condition"
   ],
   "metadata": {
    "collapsed": false,
    "pycharm": {
     "name": "#%% md\n"
    }
   }
  },
  {
   "cell_type": "code",
   "execution_count": 83,
   "outputs": [
    {
     "name": "stderr",
     "output_type": "stream",
     "text": [
      "No handles with labels found to put in legend.\n"
     ]
    },
    {
     "data": {
      "text/plain": "<Figure size 432x288 with 1 Axes>",
      "image/png": "[encoded data removed]"
     },
     "metadata": {
      "needs_background": "light"
     },
     "output_type": "display_data"
    },
    {
     "data": {
      "text/plain": "0.7236045542904749"
     },
     "execution_count": 83,
     "metadata": {},
     "output_type": "execute_result"
    }
   ],
   "source": [
    "fig, axs3 = plt.subplots()\n",
    "plt.bar([0,1],[len(pc_deceased), len(deceased)],color = ['pink','yellow'])\n",
    "\n",
    "plt.xticks(np.arange(2), ['Deceased with\\npre-conditions', 'Total Deceased'])\n",
    "#for p in axs3.patches:\n",
    "#    print(p) # The output is Rectangle(xy=(-0.4, 0), width=0.8, height=26057, angle=0)\n",
    "                             #Rectangle(xy=(0.6, 0), width=0.8, height=36010, angle=0)\n",
    "plt.text(.05, 15000,'{:0.2f}\\%'.format(100*len(pc_deceased)/len(deceased))  ,size=8,\n",
    "         va=\"baseline\", ha=\"right\", multialignment=\"left\",\n",
    "         bbox=dict(fc=\"none\"))\n",
    "plt.text(1, 20000,'100\\%'  ,size=8,\n",
    "         va=\"baseline\", ha=\"right\", multialignment=\"left\",\n",
    "         bbox=dict(fc=\"none\"))\n",
    "plt.legend()\n",
    "plt.show()\n",
    "\n",
    "26057/36010"
   ],
   "metadata": {
    "collapsed": false,
    "pycharm": {
     "name": "#%%\n"
    }
   }
  },
  {
   "cell_type": "markdown",
   "source": [
    "### From a glance, we can see that the majority of deaths involved those with preconditions, about 72%.\n"
   ],
   "metadata": {
    "collapsed": false,
    "pycharm": {
     "name": "#%% md\n"
    }
   }
  },
  {
   "cell_type": "code",
   "execution_count": 58,
   "outputs": [],
   "source": [
    "\n"
   ],
   "metadata": {
    "collapsed": false,
    "pycharm": {
     "name": "#%%\n"
    }
   }
  },
  {
   "cell_type": "markdown",
   "source": [
    "\n",
    "\n",
    "\n",
    "\n"
   ],
   "metadata": {
    "collapsed": false,
    "pycharm": {
     "name": "#%% md\n"
    }
   }
  }
 ],
 "metadata": {
  "kernelspec": {
   "name": "pycharm-f5521ed3",
   "language": "python",
   "display_name": "PyCharm (bproj)"
  },
  "language_info": {
   "codemirror_mode": {
    "name": "ipython",
    "version": 2
   },
   "file_extension": ".py",
   "mimetype": "text/x-python",
   "name": "python",
   "nbconvert_exporter": "python",
   "pygments_lexer": "ipython2",
   "version": "2.7.6"
  }
 },
 "nbformat": 4,
 "nbformat_minor": 0
}