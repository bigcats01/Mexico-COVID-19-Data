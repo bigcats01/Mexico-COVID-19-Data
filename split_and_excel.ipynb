{
 "cells": [
  {
   "cell_type": "markdown",
   "source": [
    "### We are going to make some unrealistic changes to the dataset. That being said, these changes will not be published and are only being made for purposes of an example.\n",
    "\n",
    "### We are going to assign a region/location to each row. We want to split the dataset by region and make a spreadsheet for each of them."
   ],
   "metadata": {
    "collapsed": false,
    "pycharm": {
     "name": "#%% md\n",
     "is_executing": true
    }
   }
  },
  {
   "cell_type": "markdown",
   "source": [
    "Imagine the following scenario:- This dataset is much larger than it currently is, maybe 500K+ rows. Scientists from the various regions in Mexico want to study their subset of CoVID cases in greater detail. We can make a spreadsheet and send it to them."
   ],
   "metadata": {
    "collapsed": false
   }
  },
  {
   "cell_type": "code",
   "execution_count": 41,
   "metadata": {
    "collapsed": true
   },
   "outputs": [],
   "source": [
    "import xlsxwriter\n",
    "import pandas as pd\n",
    "import random"
   ]
  },
  {
   "cell_type": "code",
   "execution_count": 42,
   "outputs": [
    {
     "data": {
      "text/plain": "       id  sex  patient_type  entry_date date_symptoms   date_died  intubed  \\\n0  16169f    2             1  04-05-2020    02-05-2020  9999-99-99       97   \n1  1009bf    2             1  19-03-2020    17-03-2020  9999-99-99       97   \n2  167386    1             2  06-04-2020    01-04-2020  9999-99-99        2   \n3  0b5948    2             2  17-04-2020    10-04-2020  9999-99-99        2   \n4  0d01b5    1             2  13-04-2020    13-04-2020  22-04-2020        2   \n\n   pneumonia  age  pregnancy  ...  inmsupr  hypertension  other_disease  \\\n0          2   27         97  ...        2             2              2   \n1          2   24         97  ...        2             2              2   \n2          2   54          2  ...        2             2              2   \n3          1   30         97  ...        2             2              2   \n4          2   60          2  ...        2             1              2   \n\n   cardiovascular  obesity  renal_chronic  tobacco  contact_other_covid  \\\n0               2        2              2        2                    2   \n1               2        2              2        2                   99   \n2               2        1              2        2                   99   \n3               2        2              2        2                   99   \n4               1        2              2        2                   99   \n\n   covid_res  icu  \n0          1   97  \n1          1   97  \n2          1    2  \n3          1    2  \n4          1    2  \n\n[5 rows x 23 columns]",
      "text/html": "<div>\n<style scoped>\n    .dataframe tbody tr th:only-of-type {\n        vertical-align: middle;\n    }\n\n    .dataframe tbody tr th {\n        vertical-align: top;\n    }\n\n    .dataframe thead th {\n        text-align: right;\n    }\n</style>\n<table border=\"1\" class=\"dataframe\">\n  <thead>\n    <tr style=\"text-align: right;\">\n      <th></th>\n      <th>id</th>\n      <th>sex</th>\n      <th>patient_type</th>\n      <th>entry_date</th>\n      <th>date_symptoms</th>\n      <th>date_died</th>\n      <th>intubed</th>\n      <th>pneumonia</th>\n      <th>age</th>\n      <th>pregnancy</th>\n      <th>...</th>\n      <th>inmsupr</th>\n      <th>hypertension</th>\n      <th>other_disease</th>\n      <th>cardiovascular</th>\n      <th>obesity</th>\n      <th>renal_chronic</th>\n      <th>tobacco</th>\n      <th>contact_other_covid</th>\n      <th>covid_res</th>\n      <th>icu</th>\n    </tr>\n  </thead>\n  <tbody>\n    <tr>\n      <th>0</th>\n      <td>16169f</td>\n      <td>2</td>\n      <td>1</td>\n      <td>04-05-2020</td>\n      <td>02-05-2020</td>\n      <td>9999-99-99</td>\n      <td>97</td>\n      <td>2</td>\n      <td>27</td>\n      <td>97</td>\n      <td>...</td>\n      <td>2</td>\n      <td>2</td>\n      <td>2</td>\n      <td>2</td>\n      <td>2</td>\n      <td>2</td>\n      <td>2</td>\n      <td>2</td>\n      <td>1</td>\n      <td>97</td>\n    </tr>\n    <tr>\n      <th>1</th>\n      <td>1009bf</td>\n      <td>2</td>\n      <td>1</td>\n      <td>19-03-2020</td>\n      <td>17-03-2020</td>\n      <td>9999-99-99</td>\n      <td>97</td>\n      <td>2</td>\n      <td>24</td>\n      <td>97</td>\n      <td>...</td>\n      <td>2</td>\n      <td>2</td>\n      <td>2</td>\n      <td>2</td>\n      <td>2</td>\n      <td>2</td>\n      <td>2</td>\n      <td>99</td>\n      <td>1</td>\n      <td>97</td>\n    </tr>\n    <tr>\n      <th>2</th>\n      <td>167386</td>\n      <td>1</td>\n      <td>2</td>\n      <td>06-04-2020</td>\n      <td>01-04-2020</td>\n      <td>9999-99-99</td>\n      <td>2</td>\n      <td>2</td>\n      <td>54</td>\n      <td>2</td>\n      <td>...</td>\n      <td>2</td>\n      <td>2</td>\n      <td>2</td>\n      <td>2</td>\n      <td>1</td>\n      <td>2</td>\n      <td>2</td>\n      <td>99</td>\n      <td>1</td>\n      <td>2</td>\n    </tr>\n    <tr>\n      <th>3</th>\n      <td>0b5948</td>\n      <td>2</td>\n      <td>2</td>\n      <td>17-04-2020</td>\n      <td>10-04-2020</td>\n      <td>9999-99-99</td>\n      <td>2</td>\n      <td>1</td>\n      <td>30</td>\n      <td>97</td>\n      <td>...</td>\n      <td>2</td>\n      <td>2</td>\n      <td>2</td>\n      <td>2</td>\n      <td>2</td>\n      <td>2</td>\n      <td>2</td>\n      <td>99</td>\n      <td>1</td>\n      <td>2</td>\n    </tr>\n    <tr>\n      <th>4</th>\n      <td>0d01b5</td>\n      <td>1</td>\n      <td>2</td>\n      <td>13-04-2020</td>\n      <td>13-04-2020</td>\n      <td>22-04-2020</td>\n      <td>2</td>\n      <td>2</td>\n      <td>60</td>\n      <td>2</td>\n      <td>...</td>\n      <td>2</td>\n      <td>1</td>\n      <td>2</td>\n      <td>1</td>\n      <td>2</td>\n      <td>2</td>\n      <td>2</td>\n      <td>99</td>\n      <td>1</td>\n      <td>2</td>\n    </tr>\n  </tbody>\n</table>\n<p>5 rows × 23 columns</p>\n</div>"
     },
     "execution_count": 42,
     "metadata": {},
     "output_type": "execute_result"
    }
   ],
   "source": [
    "covid = pd.read_csv(R'Z:\\Ahsan\\Downloads\\785492_1361825_bundle_archive/covid.csv')\n",
    "covid = covid.drop_duplicates('id')\n",
    "covid.head(5)"
   ],
   "metadata": {
    "collapsed": false,
    "pycharm": {
     "name": "#%%\n"
    }
   }
  },
  {
   "cell_type": "markdown",
   "source": [
    "Since there is no location information in our dataset, let's add it. [This webpage has a list of all administrative regions in Mexico](https://en.wikipedia.org/wiki/Administrative_divisions_of_Mexico)."
   ],
   "metadata": {
    "collapsed": false,
    "pycharm": {
     "name": "#%% md\n"
    }
   }
  },
  {
   "cell_type": "code",
   "source": [
    "regions = ['Aguascalientes',\n",
    " 'Baja California',\n",
    " 'Baja California Sur',\n",
    " 'Campeche',\n",
    " 'Chiapas',\n",
    " 'Chihuahua',\n",
    " 'Coahuila',\n",
    " 'Colima Col.',\n",
    " 'Mexico City',\n",
    " 'Durango',\n",
    " 'Guanajuato',\n",
    " 'Guerrero',\n",
    " 'Hidalgo',\n",
    " 'Jalisco',\n",
    " 'México Edomex.',\n",
    " 'Michoacán',\n",
    " 'Morelos',\n",
    " \"Nayarit\",\n",
    " 'Nuevo León',\n",
    " 'Oaxaca',\n",
    " 'Puebla',\n",
    " 'Querétaro',\n",
    " \"Quintana Roo\",\n",
    " \"San Luis\",\n",
    " 'Sinaloa',\n",
    " 'Sonora',\n",
    " 'Tabasco',\n",
    "'Tamaulipas',\n",
    " 'Tlaxcala',\n",
    " 'Veracruz',\n",
    " 'Yucatán',\n",
    " 'Zacatecas']"
   ],
   "metadata": {
    "collapsed": false,
    "pycharm": {
     "name": "#%%\n"
    }
   },
   "execution_count": 43,
   "outputs": []
  },
  {
   "cell_type": "code",
   "execution_count": 44,
   "outputs": [
    {
     "data": {
      "text/plain": "'Campeche'"
     },
     "execution_count": 44,
     "metadata": {},
     "output_type": "execute_result"
    }
   ],
   "source": [
    "random.choice(regions)"
   ],
   "metadata": {
    "collapsed": false,
    "pycharm": {
     "name": "#%%\n"
    }
   }
  },
  {
   "cell_type": "code",
   "execution_count": 45,
   "outputs": [],
   "source": [
    "region = []\n",
    "for i in range(len(covid)):\n",
    "    region.append(random.choice(regions))\n",
    "covid['Region'] = region"
   ],
   "metadata": {
    "collapsed": false,
    "pycharm": {
     "name": "#%%\n"
    }
   }
  },
  {
   "cell_type": "markdown",
   "source": [
    "We can make a dictionary object to seperate our data into"
   ],
   "metadata": {
    "collapsed": false,
    "pycharm": {
     "name": "#%% md\n"
    }
   }
  },
  {
   "cell_type": "code",
   "execution_count": 46,
   "outputs": [],
   "source": [
    "by_region = dict(tuple(covid.groupby('Region')))"
   ],
   "metadata": {
    "collapsed": false,
    "pycharm": {
     "name": "#%%\n"
    }
   }
  },
  {
   "cell_type": "code",
   "execution_count": 47,
   "outputs": [
    {
     "data": {
      "text/plain": "         id  sex  patient_type  entry_date date_symptoms   date_died  intubed  \\\n9    006b91    1             2  23-04-2020    18-04-2020  9999-99-99        1   \n57   10a401    1             1  29-03-2020    28-03-2020  9999-99-99       97   \n62   10a174    2             1  22-04-2020    19-04-2020  9999-99-99       97   \n89   17842c    2             1  08-04-2020    07-04-2020  9999-99-99       97   \n134  1d8440    1             2  14-04-2020    14-04-2020  9999-99-99        2   \n\n     pneumonia  age  pregnancy  ...  hypertension  other_disease  \\\n9            1   39          2  ...             2              2   \n57           2   32          2  ...             2              2   \n62           2   40         97  ...             2              2   \n89           2   42         97  ...             2              2   \n134          1   31          2  ...             2              2   \n\n     cardiovascular  obesity  renal_chronic  tobacco  contact_other_covid  \\\n9                 2        1              2        2                   99   \n57                2        2              2        1                   99   \n62                2        2              2        2                   99   \n89                2        1              2        1                   99   \n134               2        2              2        2                   99   \n\n     covid_res  icu          Region  \n9            1    2  Aguascalientes  \n57           1   97  Aguascalientes  \n62           1   97  Aguascalientes  \n89           1   97  Aguascalientes  \n134          1    1  Aguascalientes  \n\n[5 rows x 24 columns]",
      "text/html": "<div>\n<style scoped>\n    .dataframe tbody tr th:only-of-type {\n        vertical-align: middle;\n    }\n\n    .dataframe tbody tr th {\n        vertical-align: top;\n    }\n\n    .dataframe thead th {\n        text-align: right;\n    }\n</style>\n<table border=\"1\" class=\"dataframe\">\n  <thead>\n    <tr style=\"text-align: right;\">\n      <th></th>\n      <th>id</th>\n      <th>sex</th>\n      <th>patient_type</th>\n      <th>entry_date</th>\n      <th>date_symptoms</th>\n      <th>date_died</th>\n      <th>intubed</th>\n      <th>pneumonia</th>\n      <th>age</th>\n      <th>pregnancy</th>\n      <th>...</th>\n      <th>hypertension</th>\n      <th>other_disease</th>\n      <th>cardiovascular</th>\n      <th>obesity</th>\n      <th>renal_chronic</th>\n      <th>tobacco</th>\n      <th>contact_other_covid</th>\n      <th>covid_res</th>\n      <th>icu</th>\n      <th>Region</th>\n    </tr>\n  </thead>\n  <tbody>\n    <tr>\n      <th>9</th>\n      <td>006b91</td>\n      <td>1</td>\n      <td>2</td>\n      <td>23-04-2020</td>\n      <td>18-04-2020</td>\n      <td>9999-99-99</td>\n      <td>1</td>\n      <td>1</td>\n      <td>39</td>\n      <td>2</td>\n      <td>...</td>\n      <td>2</td>\n      <td>2</td>\n      <td>2</td>\n      <td>1</td>\n      <td>2</td>\n      <td>2</td>\n      <td>99</td>\n      <td>1</td>\n      <td>2</td>\n      <td>Aguascalientes</td>\n    </tr>\n    <tr>\n      <th>57</th>\n      <td>10a401</td>\n      <td>1</td>\n      <td>1</td>\n      <td>29-03-2020</td>\n      <td>28-03-2020</td>\n      <td>9999-99-99</td>\n      <td>97</td>\n      <td>2</td>\n      <td>32</td>\n      <td>2</td>\n      <td>...</td>\n      <td>2</td>\n      <td>2</td>\n      <td>2</td>\n      <td>2</td>\n      <td>2</td>\n      <td>1</td>\n      <td>99</td>\n      <td>1</td>\n      <td>97</td>\n      <td>Aguascalientes</td>\n    </tr>\n    <tr>\n      <th>62</th>\n      <td>10a174</td>\n      <td>2</td>\n      <td>1</td>\n      <td>22-04-2020</td>\n      <td>19-04-2020</td>\n      <td>9999-99-99</td>\n      <td>97</td>\n      <td>2</td>\n      <td>40</td>\n      <td>97</td>\n      <td>...</td>\n      <td>2</td>\n      <td>2</td>\n      <td>2</td>\n      <td>2</td>\n      <td>2</td>\n      <td>2</td>\n      <td>99</td>\n      <td>1</td>\n      <td>97</td>\n      <td>Aguascalientes</td>\n    </tr>\n    <tr>\n      <th>89</th>\n      <td>17842c</td>\n      <td>2</td>\n      <td>1</td>\n      <td>08-04-2020</td>\n      <td>07-04-2020</td>\n      <td>9999-99-99</td>\n      <td>97</td>\n      <td>2</td>\n      <td>42</td>\n      <td>97</td>\n      <td>...</td>\n      <td>2</td>\n      <td>2</td>\n      <td>2</td>\n      <td>1</td>\n      <td>2</td>\n      <td>1</td>\n      <td>99</td>\n      <td>1</td>\n      <td>97</td>\n      <td>Aguascalientes</td>\n    </tr>\n    <tr>\n      <th>134</th>\n      <td>1d8440</td>\n      <td>1</td>\n      <td>2</td>\n      <td>14-04-2020</td>\n      <td>14-04-2020</td>\n      <td>9999-99-99</td>\n      <td>2</td>\n      <td>1</td>\n      <td>31</td>\n      <td>2</td>\n      <td>...</td>\n      <td>2</td>\n      <td>2</td>\n      <td>2</td>\n      <td>2</td>\n      <td>2</td>\n      <td>2</td>\n      <td>99</td>\n      <td>1</td>\n      <td>1</td>\n      <td>Aguascalientes</td>\n    </tr>\n  </tbody>\n</table>\n<p>5 rows × 24 columns</p>\n</div>"
     },
     "execution_count": 47,
     "metadata": {},
     "output_type": "execute_result"
    }
   ],
   "source": [
    "by_region['Aguascalientes'].head(5)"
   ],
   "metadata": {
    "collapsed": false,
    "pycharm": {
     "name": "#%%\n"
    }
   }
  },
  {
   "cell_type": "markdown",
   "source": [
    "Now we can make spreadsheet by iterating over the dictionary key, value pairs. Foresight tells me that the formatting of the new spreadsheets may be off so let's take care of that as well."
   ],
   "metadata": {
    "collapsed": false,
    "pycharm": {
     "name": "#%% md\n"
    }
   }
  },
  {
   "cell_type": "code",
   "execution_count": 48,
   "outputs": [],
   "source": [
    "import pandas.io.formats.excel\n",
    "pandas.io.formats.excel.header_style = None\n",
    "pandas.io.formats.excel.ExcelFormatter.header_style = None"
   ],
   "metadata": {
    "collapsed": false,
    "pycharm": {
     "name": "#%%\n"
    }
   }
  },
  {
   "cell_type": "code",
   "execution_count": 50,
   "outputs": [],
   "source": [
    "for k, v in by_region.items():\n",
    "     writer = pd.ExcelWriter(R'Z:\\Ahsan\\Desktop\\covid_example\\20200827\\{}.xlsx'.format(k), engine='xlsxwriter')\n",
    "     workbook = writer.book\n",
    "     v.to_excel(writer, sheet_name = 'Sheet 1', index = False, header = True)\n",
    "     worksheet = writer.sheets['Sheet 1']\n",
    "     c_head = workbook.add_format({'bg_color':'#B4C6E7', 'text_wrap':True, 'border_color':'#000000', 'border':True, 'bold': True})\n",
    "     worksheet.set_row(0, None, c_head)\n",
    "     writer.save()"
   ],
   "metadata": {
    "collapsed": false,
    "pycharm": {
     "name": "#%%\n"
    }
   }
  },
  {
   "cell_type": "markdown",
   "source": [
    "The result is as follows\n",
    "![The Folder](out.png)"
   ],
   "metadata": {
    "collapsed": false,
    "pycharm": {
     "name": "#%% md\n"
    }
   }
  },
  {
   "cell_type": "markdown",
   "source": [
    "![The excel file](excel.png)"
   ],
   "metadata": {
    "collapsed": false,
    "pycharm": {
     "name": "#%% md\n"
    }
   }
  }
 ],
 "metadata": {
  "kernelspec": {
   "name": "pycharm-f5521ed3",
   "language": "python",
   "display_name": "PyCharm (bproj)"
  },
  "language_info": {
   "codemirror_mode": {
    "name": "ipython",
    "version": 2
   },
   "file_extension": ".py",
   "mimetype": "text/x-python",
   "name": "python",
   "nbconvert_exporter": "python",
   "pygments_lexer": "ipython2",
   "version": "2.7.6"
  }
 },
 "nbformat": 4,
 "nbformat_minor": 0
}